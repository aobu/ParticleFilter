{
 "cells": [
  {
   "metadata": {
    "ExecuteTime": {
     "end_time": "2024-08-14T02:12:43.751788Z",
     "start_time": "2024-08-14T02:12:43.395397Z"
    }
   },
   "cell_type": "code",
   "source": [
    "from src.MapHandler import Map\n",
    "from src.Visuals import Visualizer\n",
    "from src.Drone import Drone\n",
    "from src import Utils\n",
    "from src.ParticleFilter import ParticleFilter\n",
    "\n",
    "import numpy as np"
   ],
   "id": "initial_id",
   "outputs": [],
   "execution_count": 1
  },
  {
   "metadata": {
    "ExecuteTime": {
     "end_time": "2024-08-14T02:12:43.781913Z",
     "start_time": "2024-08-14T02:12:43.752802Z"
    }
   },
   "cell_type": "code",
   "source": [
    "np.random.seed(42)\n",
    "\n",
    "MapPath = '../Maps/OtherMap.png'\n",
    "\n",
    "START_POS = np.array([400, 400])\n",
    "SCAN_SIZE = 50\n",
    "REAL_DRONE_DISPLACEMENT_VARIANCE = 5\n",
    "VIRTUAL_DRONE_DISPLACEMENT_VARIANCE = 10\n",
    "NUM_PARTICLES = 1000\n",
    "REAL_DRONE_COLOR = (0, 255, 0)\n",
    "VIRTUAL_DRONE_COLOR = (225, 0, 0)\n",
    "MEAN_COLOR = (0, 0, 255)\n",
    "NUM_ITERS = 15\n",
    "RESAMPLE_VARIANCE = 10\n",
    "NUM_CHANNEL_BINS = 16\n",
    "REAL_DRONE_MOVEMENT_RANGE = 25\n"
   ],
   "id": "f261b6ee7b8ff2b9",
   "outputs": [],
   "execution_count": 2
  },
  {
   "metadata": {
    "ExecuteTime": {
     "end_time": "2024-08-14T02:12:43.837369Z",
     "start_time": "2024-08-14T02:12:43.782928Z"
    }
   },
   "cell_type": "code",
   "source": [
    "Map = Map(MapPath)\n",
    "Visualizer = Visualizer(Map)\n",
    "\n",
    "# Initialize drones with starting positions as NumPy arrays\n",
    "RealDrone = Drone(Map, DisplacementVariance=REAL_DRONE_DISPLACEMENT_VARIANCE, ScanSize=SCAN_SIZE, StartPosition=START_POS)\n",
    "VirtualDrones = [\n",
    "    Drone(Map, ScanSize=SCAN_SIZE, DisplacementVariance=VIRTUAL_DRONE_DISPLACEMENT_VARIANCE)\n",
    "    for _ in range(NUM_PARTICLES)\n",
    "]\n",
    "\n",
    "ParticleFilter = ParticleFilter(RealDrone, VirtualDrones, RESAMPLE_VARIANCE, NUM_CHANNEL_BINS)\n"
   ],
   "id": "3b1f55c294802467",
   "outputs": [],
   "execution_count": 3
  },
  {
   "metadata": {
    "ExecuteTime": {
     "end_time": "2024-08-14T02:13:32.894900Z",
     "start_time": "2024-08-14T02:12:43.838373Z"
    }
   },
   "cell_type": "code",
   "source": [
    "#Visualizer.DisplayImage(Map.GetMapImage(), \"Bay\")\n",
    "\n",
    "img_list = []\n",
    "output_path = \"../Output/OtherMapGif.gif\"\n",
    "IMGMapWithDrones = Visualizer.DrawDrones(Map.GetMapImage().copy(), ParticleFilter.VirtualDrones, VIRTUAL_DRONE_COLOR)\n",
    "IMGMapWithDrones = Visualizer.DrawDrones(IMGMapWithDrones, [ParticleFilter.RealDrone], REAL_DRONE_COLOR)\n",
    "img_list.append(IMGMapWithDrones)\n",
    "#Visualizer.DisplayImage(IMGMapWithDrones, \"Map with Drones\")\n",
    "\n",
    "for _ in range(NUM_ITERS):\n",
    "\n",
    "    MovementVector = Utils.GenerateRandomMovementVector(REAL_DRONE_MOVEMENT_RANGE)\n",
    "    ParticleFilter.RealDrone.Move(MovementVector)\n",
    "    for D in ParticleFilter.VirtualDrones:\n",
    "        D.Move(MovementVector)\n",
    "        \n",
    "    ParticleFilter.ComputeWeights()\n",
    "    ParticleFilter.ResampleVirtualDrones()\n",
    "    ParticleFilter.CullParticles()\n",
    "    MeanPos = ParticleFilter.EstimatePosition()\n",
    "    \n",
    "    IMGMapWithDrones = Visualizer.DrawDrones(Map.GetMapImage().copy(), ParticleFilter.VirtualDrones, VIRTUAL_DRONE_COLOR)\n",
    "    IMGMapWithDrones = Visualizer.DrawDrones(IMGMapWithDrones, [ParticleFilter.RealDrone], REAL_DRONE_COLOR, radius=5)\n",
    "    IMGMapWithDrones = Visualizer.DrawDotAtPosition(IMGMapWithDrones, MeanPos, radius=5)\n",
    "    #Visualizer.DisplayImage(IMGMapWithDrones, \"Map with Drones\")\n",
    "    img_list.append(IMGMapWithDrones)\n",
    "\n",
    "        "
   ],
   "id": "eac8226800ce6125",
   "outputs": [],
   "execution_count": 4
  },
  {
   "metadata": {
    "ExecuteTime": {
     "end_time": "2024-08-14T02:13:36.575421Z",
     "start_time": "2024-08-14T02:13:32.905910Z"
    }
   },
   "cell_type": "code",
   "source": "Visualizer.compile_images_to_gif(img_list, output_path, duration=1)",
   "id": "280e53570ea303a3",
   "outputs": [],
   "execution_count": 5
  },
  {
   "metadata": {
    "ExecuteTime": {
     "end_time": "2024-08-14T02:13:36.578777Z",
     "start_time": "2024-08-14T02:13:36.576372Z"
    }
   },
   "cell_type": "code",
   "source": "",
   "id": "2387c2bfe88a02c8",
   "outputs": [],
   "execution_count": 5
  }
 ],
 "metadata": {
  "kernelspec": {
   "display_name": "Python 3",
   "language": "python",
   "name": "python3"
  },
  "language_info": {
   "codemirror_mode": {
    "name": "ipython",
    "version": 2
   },
   "file_extension": ".py",
   "mimetype": "text/x-python",
   "name": "python",
   "nbconvert_exporter": "python",
   "pygments_lexer": "ipython2",
   "version": "2.7.6"
  }
 },
 "nbformat": 4,
 "nbformat_minor": 5
}
